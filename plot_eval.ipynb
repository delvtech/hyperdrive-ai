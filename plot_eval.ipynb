{
 "cells": [
  {
   "cell_type": "code",
   "execution_count": null,
   "metadata": {},
   "outputs": [],
   "source": [
    "import pandas as pd\n",
    "import seaborn as sns\n",
    "block_range = None\n",
    "# block_range = [490, 700]"
   ]
  },
  {
   "cell_type": "code",
   "execution_count": null,
   "metadata": {},
   "outputs": [],
   "source": [
    "pnl = pd.read_csv('pnl.csv')\n",
    "pool_info = pd.read_csv('pool_info.csv')\n",
    "positions = pd.read_csv('positions.csv')"
   ]
  },
  {
   "cell_type": "code",
   "execution_count": null,
   "metadata": {},
   "outputs": [],
   "source": [
    "###### Plot normalized pnl over time ######\n",
    "\n",
    "if block_range is not None:\n",
    "    plot_data = pnl[(pnl[\"block_number\"] >= block_range[0]) & (pnl[\"block_number\"] <= block_range[1])]\n",
    "else:\n",
    "    plot_data = pnl\n",
    "ax = sns.lineplot(data=plot_data, x=\"block_number\", y=\"normalized_pnl\", hue=\"username\")\n",
    "ax.tick_params(axis=\"x\", rotation=45)\n"
   ]
  },
  {
   "cell_type": "code",
   "execution_count": null,
   "metadata": {},
   "outputs": [],
   "source": [
    "\n",
    "###### Plot normalized token positions time ######\n",
    "grouped_positions = (\n",
    "    positions.groupby([\"block_number\", \"timestamp\", \"username\", \"token_type\"])\n",
    "    .agg({\"token_balance\": \"sum\"})\n",
    "    .reset_index()\n",
    ")\n",
    "\n",
    "# Normalized positions\n",
    "grouped_positions[\"token_max_balance\"] = grouped_positions.groupby(\"token_type\")[\"token_balance\"].transform(\"max\")\n",
    "grouped_positions[\"normalized_token_balance\"] = (\n",
    "    grouped_positions[\"token_balance\"] / grouped_positions[\"token_max_balance\"]\n",
    ")\n",
    "\n",
    "if block_range is not None:\n",
    "    plot_data = grouped_positions[\n",
    "        (grouped_positions[\"block_number\"] >= block_range[0]) & (grouped_positions[\"block_number\"] <= block_range[1])\n",
    "    ]\n",
    "else:\n",
    "    plot_data = grouped_positions\n",
    "\n",
    "ax = sns.lineplot(\n",
    "    data=plot_data[plot_data[\"username\"] == \"agent0\"],\n",
    "    x=\"block_number\",\n",
    "    y=\"normalized_token_balance\",\n",
    "    hue=\"token_type\",\n",
    ")\n",
    "ax.tick_params(axis=\"x\", rotation=45)\n"
   ]
  },
  {
   "cell_type": "code",
   "execution_count": null,
   "metadata": {},
   "outputs": [],
   "source": [
    "\n",
    "###### Plot fixed rates ######\n",
    "\n",
    "if block_range is not None:\n",
    "    plot_data = pool_info[(pool_info[\"block_number\"] >= block_range[0]) & (pool_info[\"block_number\"] <= block_range[1])]\n",
    "else:\n",
    "    plot_data = pool_info\n",
    "\n",
    "ax = sns.lineplot(\n",
    "    data=pool_info,\n",
    "    x=\"block_number\",\n",
    "    y=\"fixed_rate\",\n",
    ")\n",
    "ax.tick_params(axis=\"x\", rotation=45)"
   ]
  }
 ],
 "metadata": {
  "kernelspec": {
   "display_name": ".venv",
   "language": "python",
   "name": "python3"
  },
  "language_info": {
   "codemirror_mode": {
    "name": "ipython",
    "version": 3
   },
   "file_extension": ".py",
   "mimetype": "text/x-python",
   "name": "python",
   "nbconvert_exporter": "python",
   "pygments_lexer": "ipython3",
   "version": "3.10.14"
  }
 },
 "nbformat": 4,
 "nbformat_minor": 2
}
